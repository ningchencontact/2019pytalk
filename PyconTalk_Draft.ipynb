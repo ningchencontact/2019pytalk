{
  "cells": [
    {
      "metadata": {
        "slideshow": {
          "slide_type": "-"
        },
        "trusted": true
      },
      "cell_type": "code",
      "source": "print(\"D4SG vs Python Speakers:Ning Chen and Andrew Li\")",
      "execution_count": 6,
      "outputs": [
        {
          "output_type": "stream",
          "text": "D4SG vs Python Speakers:Ning Chen and Andrew Li\n",
          "name": "stdout"
        }
      ]
    },
    {
      "metadata": {
        "slideshow": {
          "slide_type": "notes"
        },
        "trusted": true
      },
      "cell_type": "code",
      "source": "#調整字型跟版面 加上圖",
      "execution_count": 7,
      "outputs": []
    },
    {
      "metadata": {
        "slideshow": {
          "slide_type": "slide"
        },
        "trusted": true
      },
      "cell_type": "code",
      "source": "#什麼是D4SG\n#貼上 d4sg文字介紹",
      "execution_count": 9,
      "outputs": []
    },
    {
      "metadata": {
        "slideshow": {
          "slide_type": "subslide"
        },
        "trusted": true
      },
      "cell_type": "code",
      "source": "# 得獎介紹 - 總統盃 ",
      "execution_count": 10,
      "outputs": []
    },
    {
      "metadata": {
        "slideshow": {
          "slide_type": "subslide"
        },
        "trusted": true
      },
      "cell_type": "code",
      "source": "# 得獎介紹 - 聯發科",
      "execution_count": 11,
      "outputs": []
    },
    {
      "metadata": {
        "slideshow": {
          "slide_type": "subslide"
        },
        "trusted": true
      },
      "cell_type": "code",
      "source": "# 榮譽介紹 - D4SE",
      "execution_count": 12,
      "outputs": []
    },
    {
      "metadata": {
        "slideshow": {
          "slide_type": "subslide"
        },
        "trusted": true
      },
      "cell_type": "code",
      "source": "# 媒體報導",
      "execution_count": 14,
      "outputs": []
    },
    {
      "metadata": {
        "slideshow": {
          "slide_type": "subslide"
        },
        "trusted": true
      },
      "cell_type": "code",
      "source": "# 五大類資料處理的範疇 貼圖",
      "execution_count": 16,
      "outputs": []
    },
    {
      "metadata": {
        "slideshow": {
          "slide_type": "slide"
        },
        "trusted": true
      },
      "cell_type": "code",
      "source": " # Python常見的資料處理\n # 適合探索性分析- package 點名\n # 適合視覺化 - package 點名\n # 適合Dashboard - package點名\n # 適合資料整理 - package點名\n # 適合文字探勘 - package點名\n # 適合影像辨識 - package點名\n # 不適合 近無資料的分析 許多單位要的是資料思考素養",
      "execution_count": 8,
      "outputs": []
    },
    {
      "metadata": {
        "slideshow": {
          "slide_type": "slide"
        },
        "trusted": true
      },
      "cell_type": "code",
      "source": "# 以 聯發科 社會局 為例\n# 演算法....\n# 文字處理\n",
      "execution_count": 17,
      "outputs": []
    },
    {
      "metadata": {
        "slideshow": {
          "slide_type": "slide"
        },
        "trusted": true
      },
      "cell_type": "code",
      "source": "# 以大雨治水為例 \n# 影像處理?? 或是 其他影像處理的例子",
      "execution_count": 19,
      "outputs": []
    }
  ],
  "metadata": {
    "kernelspec": {
      "name": "python36",
      "display_name": "Python 3.6",
      "language": "python"
    },
    "language_info": {
      "mimetype": "text/x-python",
      "nbconvert_exporter": "python",
      "name": "python",
      "pygments_lexer": "ipython3",
      "version": "3.6.6",
      "file_extension": ".py",
      "codemirror_mode": {
        "version": 3,
        "name": "ipython"
      }
    },
    "celltoolbar": "Slideshow"
  },
  "nbformat": 4,
  "nbformat_minor": 1
}