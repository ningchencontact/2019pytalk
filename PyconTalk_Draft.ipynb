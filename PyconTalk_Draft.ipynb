{
 "cells": [
  {
   "cell_type": "code",
   "execution_count": 1,
   "metadata": {
    "jupyter": {
     "outputs_hidden": true
    },
    "slideshow": {
     "slide_type": "skip"
    }
   },
   "outputs": [],
   "source": [
    "from IPython.display import Image\n",
    "from IPython.core.display import HTML"
   ]
  },
  {
   "cell_type": "markdown",
   "metadata": {
    "slideshow": {
     "slide_type": "slide"
    }
   },
   "source": [
    "# Data For Social Good vs Python \n",
    "## Speakers: Ning Chen and Andrew Li"
   ]
  },
  {
   "cell_type": "markdown",
   "metadata": {
    "slideshow": {
     "slide_type": "slide"
    }
   },
   "source": [
    "# Ning Chen\n",
    "### 熱愛作資料解讀及分析，共同創立 TW R Ladies，D4SG的顧問．希望能認識更多同好，一起做好玩且不一樣的事情。\n",
    "\n",
    "# Andrew Li\n",
    "### 熱愛資料分析的資料工程師，曾經是在化學材料廠打滾的化工工程師與材料工程師，希望藉由資料科學的應用，讓今天的社會比昨天更好。"
   ]
  },
  {
   "cell_type": "markdown",
   "metadata": {
    "slideshow": {
     "slide_type": "slide"
    }
   },
   "source": [
    "![D4SGlogo](img/d4sglogo.png)"
   ]
  },
  {
   "cell_type": "markdown",
   "metadata": {
    "slideshow": {
     "slide_type": "subslide"
    }
   },
   "source": [
    "# 得獎介紹 - 總統盃 \n",
    "![PresidentHackson](img/黑客松2.png)"
   ]
  },
  {
   "cell_type": "markdown",
   "metadata": {
    "slideshow": {
     "slide_type": "subslide"
    }
   },
   "source": [
    "# 得獎介紹 - 聯發科\n",
    "![MTK](img/聯發科1.png)"
   ]
  },
  {
   "cell_type": "markdown",
   "metadata": {
    "slideshow": {
     "slide_type": "subslide"
    }
   },
   "source": [
    "# D4SG資料英雄計畫(Data For Social Good)\n",
    "![D4SGHP](img/d4sgHP.png)"
   ]
  },
  {
   "cell_type": "markdown",
   "metadata": {},
   "source": [
    "![](img/投影片012.png)"
   ]
  },
  {
   "cell_type": "markdown",
   "metadata": {
    "slideshow": {
     "slide_type": "subslide"
    }
   },
   "source": [
    "# 運用資料分析 促進利害關係人對話與合作\n",
    "![CoOpFlow](img/合作flow.png)\n"
   ]
  },
  {
   "cell_type": "markdown",
   "metadata": {
    "slideshow": {
     "slide_type": "subslide"
    }
   },
   "source": [
    "# 參與團體互動\n",
    "![CoOpParties](img/d4sgCoop.png)"
   ]
  },
  {
   "cell_type": "markdown",
   "metadata": {
    "slideshow": {
     "slide_type": "slide"
    }
   },
   "source": [
    "# 資料專案類型\n",
    "![ProjectsType](img/DataProjects.png)"
   ]
  },
  {
   "cell_type": "markdown",
   "metadata": {
    "slideshow": {
     "slide_type": "subslide"
    }
   },
   "source": [
    "![](img/投影片024.png)"
   ]
  },
  {
   "cell_type": "markdown",
   "metadata": {
    "slideshow": {
     "slide_type": "slide"
    }
   },
   "source": [
    "![](img/投影片042.png)"
   ]
  },
  {
   "cell_type": "markdown",
   "metadata": {
    "slideshow": {
     "slide_type": "subslide"
    }
   },
   "source": [
    "![](img/投影片044.png)"
   ]
  },
  {
   "cell_type": "markdown",
   "metadata": {
    "slideshow": {
     "slide_type": "subslide"
    }
   },
   "source": [
    "![](img/投影片045.png)"
   ]
  },
  {
   "cell_type": "markdown",
   "metadata": {
    "slideshow": {
     "slide_type": "subslide"
    }
   },
   "source": [
    "![](img/投影片046.png)"
   ]
  },
  {
   "cell_type": "markdown",
   "metadata": {
    "slideshow": {
     "slide_type": "subslide"
    }
   },
   "source": [
    "![](img/投影片067.png)"
   ]
  },
  {
   "cell_type": "markdown",
   "metadata": {
    "slideshow": {
     "slide_type": "subslide"
    }
   },
   "source": [
    "![](img/投影片068.png)"
   ]
  },
  {
   "cell_type": "markdown",
   "metadata": {
    "slideshow": {
     "slide_type": "subslide"
    }
   },
   "source": [
    "![](img/投影片069.png)"
   ]
  },
  {
   "cell_type": "markdown",
   "metadata": {
    "slideshow": {
     "slide_type": "subslide"
    }
   },
   "source": [
    "![](img/投影片070.png)"
   ]
  },
  {
   "cell_type": "markdown",
   "metadata": {
    "slideshow": {
     "slide_type": "subslide"
    }
   },
   "source": [
    "![](img/投影片071.png)"
   ]
  },
  {
   "cell_type": "markdown",
   "metadata": {
    "slideshow": {
     "slide_type": "slide"
    }
   },
   "source": [
    "![傳統統計](img/傳統統計.png)"
   ]
  },
  {
   "cell_type": "markdown",
   "metadata": {
    "slideshow": {
     "slide_type": "subslide"
    }
   },
   "source": [
    "![IOT](img/IOT.png)"
   ]
  },
  {
   "cell_type": "markdown",
   "metadata": {
    "slideshow": {
     "slide_type": "subslide"
    }
   },
   "source": [
    "![AI](img/AI.png)"
   ]
  },
  {
   "cell_type": "code",
   "execution_count": 10,
   "metadata": {
    "collapsed": true,
    "jupyter": {
     "outputs_hidden": true
    },
    "slideshow": {
     "slide_type": "notes"
    }
   },
   "outputs": [],
   "source": [
    "# 以大雨治水為例 \n",
    "# 影像處理?? 或是 其他影像處理的例子"
   ]
  },
  {
   "cell_type": "code",
   "execution_count": null,
   "metadata": {
    "slideshow": {
     "slide_type": "notes"
    }
   },
   "outputs": [],
   "source": [
    "# Python常見的資料處理\n",
    " # 適合探索性分析- package 點名\n",
    " # 適合視覺化 - package 點名\n",
    " # 適合Dashboard - package點名\n",
    " # 適合資料整理 - package點名\n",
    " # 適合文字探勘 - package點名\n",
    " # 適合影像辨識 - package點名\n",
    " # 不適合 近無資料的分析 許多單位要的是資料思考素養"
   ]
  },
  {
   "cell_type": "markdown",
   "metadata": {
    "slideshow": {
     "slide_type": "slide"
    }
   },
   "source": [
    "# 資料科學家都在......\n",
    "\n",
    "![](img/what-data-scientists-spend-the-most-time-doing.png)"
   ]
  },
  {
   "cell_type": "markdown",
   "metadata": {
    "slideshow": {
     "slide_type": "subslide"
    }
   },
   "source": [
    "# 如何快速上手一個 D4SG 專案"
   ]
  },
  {
   "cell_type": "markdown",
   "metadata": {
    "slideshow": {
     "slide_type": "subslide"
    }
   },
   "source": [
    "### 收集資料、資料清理\n",
    "![](img/pandas-logo.png)"
   ]
  },
  {
   "cell_type": "markdown",
   "metadata": {
    "slideshow": {
     "slide_type": "subslide"
    }
   },
   "source": [
    "#### 匯入與匯出"
   ]
  },
  {
   "cell_type": "code",
   "execution_count": null,
   "metadata": {
    "slideshow": {
     "slide_type": "fragment"
    }
   },
   "outputs": [],
   "source": [
    "import pandas as pd\n",
    "\n",
    "# CSV\n",
    "df = pd.read_csv()\n",
    "df.to_csv()\n",
    "\n",
    "# JSON\n",
    "df = pd.read_json()\n",
    "df.to_json()\n",
    "\n",
    "# SQL\n",
    "df = pd.read_sql()\n",
    "df.to_sql()\n",
    "\n",
    "# EXCEL\n",
    "df = pd.read_excel()\n",
    "df.to_excel()"
   ]
  },
  {
   "cell_type": "code",
   "execution_count": 34,
   "metadata": {
    "slideshow": {
     "slide_type": "subslide"
    }
   },
   "outputs": [
    {
     "data": {
      "text/html": [
       "<div>\n",
       "<style scoped>\n",
       "    .dataframe tbody tr th:only-of-type {\n",
       "        vertical-align: middle;\n",
       "    }\n",
       "\n",
       "    .dataframe tbody tr th {\n",
       "        vertical-align: top;\n",
       "    }\n",
       "\n",
       "    .dataframe thead th {\n",
       "        text-align: right;\n",
       "    }\n",
       "</style>\n",
       "<table border=\"1\" class=\"dataframe\">\n",
       "  <thead>\n",
       "    <tr style=\"text-align: right;\">\n",
       "      <th></th>\n",
       "      <th>縣市別</th>\n",
       "      <th>場址名稱</th>\n",
       "      <th>場址坐標</th>\n",
       "      <th>場址地址</th>\n",
       "      <th>場址地號</th>\n",
       "      <th>場址種類</th>\n",
       "      <th>場址面積.平方公尺.</th>\n",
       "      <th>公告為控制場址日期</th>\n",
       "      <th>公告為控制場址公文</th>\n",
       "      <th>公告解除控制場址日期</th>\n",
       "      <th>...</th>\n",
       "      <th>公告劃定地下水受污染限制使用地區及限制事項日期</th>\n",
       "      <th>公告劃定地下水受污染限制使用地區及限制事項公文</th>\n",
       "      <th>公告解除劃定地下水受污染限制使用地區及限制事項日期</th>\n",
       "      <th>公告解除劃定地下水受污染限制使用地區及限制事項公文</th>\n",
       "      <th>場址列管狀態</th>\n",
       "      <th>土壤.地下水污染物</th>\n",
       "      <th>污染情形</th>\n",
       "      <th>場址現況概述</th>\n",
       "      <th>重要注意事項</th>\n",
       "      <th>改善整治進度</th>\n",
       "    </tr>\n",
       "  </thead>\n",
       "  <tbody>\n",
       "    <tr>\n",
       "      <td>0</td>\n",
       "      <td>臺北市</td>\n",
       "      <td>台北市北投區八仙段一小段三三五地號</td>\n",
       "      <td>X：301277，Y：2777431</td>\n",
       "      <td>無</td>\n",
       "      <td>臺北市北投區八仙段一小段三三五地號</td>\n",
       "      <td>農地</td>\n",
       "      <td>387.0</td>\n",
       "      <td>2002/10/04</td>\n",
       "      <td>府環水字第09106170400號</td>\n",
       "      <td>2004/11/02</td>\n",
       "      <td>...</td>\n",
       "      <td>無</td>\n",
       "      <td>無</td>\n",
       "      <td>無</td>\n",
       "      <td>無</td>\n",
       "      <td>公告解除控制場址</td>\n",
       "      <td>銅/無</td>\n",
       "      <td>土壤重金屬污染</td>\n",
       "      <td>因年代久遠，資料不可考。</td>\n",
       "      <td>無</td>\n",
       "      <td>完成控制並解除列管</td>\n",
       "    </tr>\n",
       "    <tr>\n",
       "      <td>1</td>\n",
       "      <td>臺北市</td>\n",
       "      <td>台北市北投區八仙段一小段三四四地號</td>\n",
       "      <td>X：301267，Y：2777372</td>\n",
       "      <td>無</td>\n",
       "      <td>臺北市北投區八仙段一小段三四四地號</td>\n",
       "      <td>農地</td>\n",
       "      <td>7738.0</td>\n",
       "      <td>2002/10/04</td>\n",
       "      <td>府環水字第09106170400號</td>\n",
       "      <td>2004/11/02</td>\n",
       "      <td>...</td>\n",
       "      <td>無</td>\n",
       "      <td>無</td>\n",
       "      <td>無</td>\n",
       "      <td>無</td>\n",
       "      <td>公告解除控制場址</td>\n",
       "      <td>銅/無</td>\n",
       "      <td>土壤之重金屬（銅）濃度達土壤污染管制標準管制項目銅之食用作物農地之管制標準值(200毫克/公斤)。</td>\n",
       "      <td>因年代久遠，資料不可考。</td>\n",
       "      <td>無</td>\n",
       "      <td>完成控制並解除列管</td>\n",
       "    </tr>\n",
       "  </tbody>\n",
       "</table>\n",
       "<p>2 rows × 25 columns</p>\n",
       "</div>"
      ],
      "text/plain": [
       "   縣市別               場址名稱                場址坐標 場址地址               場址地號 場址種類  \\\n",
       "0  臺北市  台北市北投區八仙段一小段三三五地號  X：301277，Y：2777431    無  臺北市北投區八仙段一小段三三五地號   農地   \n",
       "1  臺北市  台北市北投區八仙段一小段三四四地號  X：301267，Y：2777372    無  臺北市北投區八仙段一小段三四四地號   農地   \n",
       "\n",
       "   場址面積.平方公尺.   公告為控制場址日期          公告為控制場址公文  公告解除控制場址日期  ...  \\\n",
       "0       387.0  2002/10/04  府環水字第09106170400號  2004/11/02  ...   \n",
       "1      7738.0  2002/10/04  府環水字第09106170400號  2004/11/02  ...   \n",
       "\n",
       "  公告劃定地下水受污染限制使用地區及限制事項日期 公告劃定地下水受污染限制使用地區及限制事項公文 公告解除劃定地下水受污染限制使用地區及限制事項日期  \\\n",
       "0                       無                       無                         無   \n",
       "1                       無                       無                         無   \n",
       "\n",
       "  公告解除劃定地下水受污染限制使用地區及限制事項公文    場址列管狀態 土壤.地下水污染物  \\\n",
       "0                         無  公告解除控制場址       銅/無   \n",
       "1                         無  公告解除控制場址       銅/無   \n",
       "\n",
       "                                                污染情形        場址現況概述 重要注意事項  \\\n",
       "0                                            土壤重金屬污染  因年代久遠，資料不可考。      無   \n",
       "1  土壤之重金屬（銅）濃度達土壤污染管制標準管制項目銅之食用作物農地之管制標準值(200毫克/公斤)。  因年代久遠，資料不可考。      無   \n",
       "\n",
       "      改善整治進度  \n",
       "0  完成控制並解除列管  \n",
       "1  完成控制並解除列管  \n",
       "\n",
       "[2 rows x 25 columns]"
      ]
     },
     "execution_count": 34,
     "metadata": {},
     "output_type": "execute_result"
    }
   ],
   "source": [
    "import pandas as pd\n",
    "\n",
    "\n",
    "df = pd.read_csv('./data/環保署列管污染農地_utf8.csv')\n",
    "df.head(2)"
   ]
  },
  {
   "cell_type": "markdown",
   "metadata": {
    "slideshow": {
     "slide_type": "subslide"
    }
   },
   "source": [
    "#### 資料選取"
   ]
  },
  {
   "cell_type": "code",
   "execution_count": null,
   "metadata": {
    "slideshow": {
     "slide_type": "fragment"
    }
   },
   "outputs": [],
   "source": [
    "df.loc[row_indexer, column_indexer]  # Selection by label\n",
    "\n",
    "df.iloc[row_indexer, column_indexer]  # Selection by position"
   ]
  },
  {
   "cell_type": "code",
   "execution_count": 4,
   "metadata": {
    "slideshow": {
     "slide_type": "fragment"
    }
   },
   "outputs": [
    {
     "data": {
      "text/html": [
       "<div>\n",
       "<style scoped>\n",
       "    .dataframe tbody tr th:only-of-type {\n",
       "        vertical-align: middle;\n",
       "    }\n",
       "\n",
       "    .dataframe tbody tr th {\n",
       "        vertical-align: top;\n",
       "    }\n",
       "\n",
       "    .dataframe thead th {\n",
       "        text-align: right;\n",
       "    }\n",
       "</style>\n",
       "<table border=\"1\" class=\"dataframe\">\n",
       "  <thead>\n",
       "    <tr style=\"text-align: right;\">\n",
       "      <th></th>\n",
       "      <th>縣市別</th>\n",
       "      <th>場址坐標</th>\n",
       "      <th>場址面積.平方公尺.</th>\n",
       "      <th>公告為控制場址日期</th>\n",
       "      <th>公告解除控制場址日期</th>\n",
       "    </tr>\n",
       "  </thead>\n",
       "  <tbody>\n",
       "    <tr>\n",
       "      <td>0</td>\n",
       "      <td>臺北市</td>\n",
       "      <td>X：301277，Y：2777431</td>\n",
       "      <td>387.00</td>\n",
       "      <td>2002/10/04</td>\n",
       "      <td>2004/11/02</td>\n",
       "    </tr>\n",
       "    <tr>\n",
       "      <td>1</td>\n",
       "      <td>臺北市</td>\n",
       "      <td>X：301267，Y：2777372</td>\n",
       "      <td>7738.00</td>\n",
       "      <td>2002/10/04</td>\n",
       "      <td>2004/11/02</td>\n",
       "    </tr>\n",
       "    <tr>\n",
       "      <td>2</td>\n",
       "      <td>臺北市</td>\n",
       "      <td>X：301310，Y：2777998</td>\n",
       "      <td>580.00</td>\n",
       "      <td>2004/01/27</td>\n",
       "      <td>2005/03/01</td>\n",
       "    </tr>\n",
       "    <tr>\n",
       "      <td>3</td>\n",
       "      <td>臺北市</td>\n",
       "      <td>X：299512，Y：2779782</td>\n",
       "      <td>3205.65</td>\n",
       "      <td>2004/12/10</td>\n",
       "      <td>2008/04/18</td>\n",
       "    </tr>\n",
       "    <tr>\n",
       "      <td>4</td>\n",
       "      <td>臺北市</td>\n",
       "      <td>X：299518，Y：2779865</td>\n",
       "      <td>2855.14</td>\n",
       "      <td>2004/12/10</td>\n",
       "      <td>2008/04/18</td>\n",
       "    </tr>\n",
       "  </tbody>\n",
       "</table>\n",
       "</div>"
      ],
      "text/plain": [
       "   縣市別                場址坐標  場址面積.平方公尺.   公告為控制場址日期  公告解除控制場址日期\n",
       "0  臺北市  X：301277，Y：2777431      387.00  2002/10/04  2004/11/02\n",
       "1  臺北市  X：301267，Y：2777372     7738.00  2002/10/04  2004/11/02\n",
       "2  臺北市  X：301310，Y：2777998      580.00  2004/01/27  2005/03/01\n",
       "3  臺北市  X：299512，Y：2779782     3205.65  2004/12/10  2008/04/18\n",
       "4  臺北市  X：299518，Y：2779865     2855.14  2004/12/10  2008/04/18"
      ]
     },
     "execution_count": 4,
     "metadata": {},
     "output_type": "execute_result"
    }
   ],
   "source": [
    "df.loc[:, ['縣市別', '場址坐標', '場址面積.平方公尺.', '公告為控制場址日期', '公告解除控制場址日期']].head()\n",
    "\n",
    "df.iloc[:, [0, 2, 6, 7, 9]].head()"
   ]
  },
  {
   "cell_type": "code",
   "execution_count": 35,
   "metadata": {
    "slideshow": {
     "slide_type": "fragment"
    }
   },
   "outputs": [],
   "source": [
    "df = df.iloc[:, [0, 2, 6, 7, 9]]\n",
    "df.columns = ['county', 'coordinate', 'area', 'control_date', 'free_date']"
   ]
  },
  {
   "cell_type": "markdown",
   "metadata": {
    "slideshow": {
     "slide_type": "subslide"
    }
   },
   "source": [
    "### 資料視覺化\n",
    "![](img/data-visualization.png)"
   ]
  },
  {
   "cell_type": "code",
   "execution_count": null,
   "metadata": {
    "slideshow": {
     "slide_type": "subslide"
    }
   },
   "outputs": [],
   "source": [
    "import matplotlib.pyplot as plt\n",
    "\n",
    "\n",
    "plt.bar(\n",
    "    x=df.county.value_counts().index, \n",
    "    height=df.county.value_counts().values\n",
    ")\n",
    "plt.title('列管案件(matplotlib)')\n",
    "plt.xticks(rotation=45)\n",
    "plt.xlabel('行政區')\n",
    "plt.ylabel('件數')\n",
    "plt.savefig('./img/matplotlib.png')"
   ]
  },
  {
   "cell_type": "markdown",
   "metadata": {
    "slideshow": {
     "slide_type": "subslide"
    }
   },
   "source": [
    "![](img/matplotlib.png)"
   ]
  },
  {
   "cell_type": "code",
   "execution_count": 5,
   "metadata": {
    "slideshow": {
     "slide_type": "skip"
    }
   },
   "outputs": [
    {
     "name": "stdout",
     "output_type": "stream",
     "text": [
      "Using matplotlib backend: MacOSX\n"
     ]
    }
   ],
   "source": [
    "%matplotlib auto"
   ]
  },
  {
   "cell_type": "code",
   "execution_count": null,
   "metadata": {
    "slideshow": {
     "slide_type": "subslide"
    }
   },
   "outputs": [],
   "source": [
    "import seaborn as sns\n",
    "\n",
    "\n",
    "sns.set(style='darkgrid', font='SimHei')\n",
    "\n",
    "ax = sns.countplot(\n",
    "    data=df,\n",
    "    x='county',\n",
    "    order=df.county.value_counts().index,\n",
    "    color='salmon'\n",
    ")\n",
    "ax.set_title('列管案件(seaborn)')\n",
    "ax.set_xticklabels(ax.get_xticklabels(), rotation=45)\n",
    "ax.set_xlabel('行政區')\n",
    "ax.set_ylabel('件數')\n",
    "ax.figure.savefig('./img/sns.png')"
   ]
  },
  {
   "cell_type": "markdown",
   "metadata": {
    "slideshow": {
     "slide_type": "subslide"
    }
   },
   "source": [
    "![](img/sns.png)"
   ]
  },
  {
   "cell_type": "code",
   "execution_count": 39,
   "metadata": {
    "slideshow": {
     "slide_type": "subslide"
    }
   },
   "outputs": [
    {
     "data": {
      "text/html": [
       "        <script type=\"text/javascript\">\n",
       "        window.PlotlyConfig = {MathJaxConfig: 'local'};\n",
       "        if (window.MathJax) {MathJax.Hub.Config({SVG: {font: \"STIX-Web\"}});}\n",
       "        if (typeof require !== 'undefined') {\n",
       "        require.undef(\"plotly\");\n",
       "        requirejs.config({\n",
       "            paths: {\n",
       "                'plotly': ['https://cdn.plot.ly/plotly-latest.min']\n",
       "            }\n",
       "        });\n",
       "        require(['plotly'], function(Plotly) {\n",
       "            window._Plotly = Plotly;\n",
       "        });\n",
       "        }\n",
       "        </script>\n",
       "        "
      ]
     },
     "metadata": {},
     "output_type": "display_data"
    },
    {
     "data": {
      "text/html": [
       "        <script type=\"text/javascript\">\n",
       "        window.PlotlyConfig = {MathJaxConfig: 'local'};\n",
       "        if (window.MathJax) {MathJax.Hub.Config({SVG: {font: \"STIX-Web\"}});}\n",
       "        if (typeof require !== 'undefined') {\n",
       "        require.undef(\"plotly\");\n",
       "        requirejs.config({\n",
       "            paths: {\n",
       "                'plotly': ['https://cdn.plot.ly/plotly-latest.min']\n",
       "            }\n",
       "        });\n",
       "        require(['plotly'], function(Plotly) {\n",
       "            window._Plotly = Plotly;\n",
       "        });\n",
       "        }\n",
       "        </script>\n",
       "        "
      ]
     },
     "metadata": {},
     "output_type": "display_data"
    }
   ],
   "source": [
    "from plotly.offline import download_plotlyjs, init_notebook_mode, plot, iplot\n",
    "init_notebook_mode(connected=True)  # plotly settings for offline \n",
    "\n",
    "import cufflinks as cf\n",
    "cf.set_config_file(offline=True, world_readable=False, theme='ggplot')  # cufflinks settings for offline "
   ]
  },
  {
   "cell_type": "code",
   "execution_count": 40,
   "metadata": {
    "slideshow": {
     "slide_type": "subslide"
    }
   },
   "outputs": [
    {
     "data": {
      "application/vnd.plotly.v1+json": {
       "config": {
        "linkText": "Export to plot.ly",
        "plotlyServerURL": "https://plot.ly",
        "showLink": true
       },
       "data": [
        {
         "marker": {
          "color": "rgba(226, 74, 51, 0.6)",
          "line": {
           "color": "rgba(226, 74, 51, 1.0)",
           "width": 1
          }
         },
         "name": "county",
         "orientation": "v",
         "text": "",
         "type": "bar",
         "uid": "441c0beb-1c26-4b82-a5c6-f8995d482513",
         "x": [
          "彰化縣",
          "桃園市",
          "臺中市",
          "新竹市",
          "臺南市",
          "高雄市",
          "苗栗縣",
          "雲林縣",
          "臺北市",
          "嘉義市",
          "新北市",
          "南投縣",
          "宜蘭縣",
          "屏東縣",
          "嘉義縣"
         ],
         "y": [
          2503,
          1890,
          600,
          202,
          104,
          49,
          37,
          25,
          22,
          19,
          13,
          11,
          5,
          3,
          2
         ]
        }
       ],
       "layout": {
        "legend": {
         "bgcolor": "#FFFFFF",
         "font": {
          "color": "#666666"
         }
        },
        "paper_bgcolor": "#FFFFFF",
        "plot_bgcolor": "#E5E5E5",
        "title": {
         "font": {
          "color": "#151516"
         }
        },
        "xaxis": {
         "gridcolor": "#F6F6F6",
         "showgrid": true,
         "tickfont": {
          "color": "#666666"
         },
         "title": {
          "font": {
           "color": "#666666"
          },
          "text": ""
         },
         "zerolinecolor": "#F6F6F6"
        },
        "yaxis": {
         "gridcolor": "#F6F6F6",
         "showgrid": true,
         "tickfont": {
          "color": "#666666"
         },
         "title": {
          "font": {
           "color": "#666666"
          },
          "text": ""
         },
         "zerolinecolor": "#F6F6F6"
        }
       }
      },
      "text/html": [
       "<div>\n",
       "        \n",
       "        \n",
       "            <div id=\"690e5090-4f40-4030-8cbf-7d6be59dc169\" class=\"plotly-graph-div\" style=\"height:525px; width:100%;\"></div>\n",
       "            <script type=\"text/javascript\">\n",
       "                require([\"plotly\"], function(Plotly) {\n",
       "                    window.PLOTLYENV=window.PLOTLYENV || {};\n",
       "                    window.PLOTLYENV.BASE_URL='https://plot.ly';\n",
       "                    \n",
       "                if (document.getElementById(\"690e5090-4f40-4030-8cbf-7d6be59dc169\")) {\n",
       "                    Plotly.newPlot(\n",
       "                        '690e5090-4f40-4030-8cbf-7d6be59dc169',\n",
       "                        [{\"marker\": {\"color\": \"rgba(226, 74, 51, 0.6)\", \"line\": {\"color\": \"rgba(226, 74, 51, 1.0)\", \"width\": 1}}, \"name\": \"county\", \"orientation\": \"v\", \"text\": \"\", \"type\": \"bar\", \"uid\": \"441c0beb-1c26-4b82-a5c6-f8995d482513\", \"x\": [\"\\u5f70\\u5316\\u7e23\", \"\\u6843\\u5712\\u5e02\", \"\\u81fa\\u4e2d\\u5e02\", \"\\u65b0\\u7af9\\u5e02\", \"\\u81fa\\u5357\\u5e02\", \"\\u9ad8\\u96c4\\u5e02\", \"\\u82d7\\u6817\\u7e23\", \"\\u96f2\\u6797\\u7e23\", \"\\u81fa\\u5317\\u5e02\", \"\\u5609\\u7fa9\\u5e02\", \"\\u65b0\\u5317\\u5e02\", \"\\u5357\\u6295\\u7e23\", \"\\u5b9c\\u862d\\u7e23\", \"\\u5c4f\\u6771\\u7e23\", \"\\u5609\\u7fa9\\u7e23\"], \"y\": [2503, 1890, 600, 202, 104, 49, 37, 25, 22, 19, 13, 11, 5, 3, 2]}],\n",
       "                        {\"legend\": {\"bgcolor\": \"#FFFFFF\", \"font\": {\"color\": \"#666666\"}}, \"paper_bgcolor\": \"#FFFFFF\", \"plot_bgcolor\": \"#E5E5E5\", \"title\": {\"font\": {\"color\": \"#151516\"}}, \"xaxis\": {\"gridcolor\": \"#F6F6F6\", \"showgrid\": true, \"tickfont\": {\"color\": \"#666666\"}, \"title\": {\"font\": {\"color\": \"#666666\"}, \"text\": \"\"}, \"zerolinecolor\": \"#F6F6F6\"}, \"yaxis\": {\"gridcolor\": \"#F6F6F6\", \"showgrid\": true, \"tickfont\": {\"color\": \"#666666\"}, \"title\": {\"font\": {\"color\": \"#666666\"}, \"text\": \"\"}, \"zerolinecolor\": \"#F6F6F6\"}},\n",
       "                        {\"showLink\": true, \"linkText\": \"Export to plot.ly\", \"plotlyServerURL\": \"https://plot.ly\", \"responsive\": true}\n",
       "                    ).then(function(){\n",
       "                            \n",
       "var gd = document.getElementById('690e5090-4f40-4030-8cbf-7d6be59dc169');\n",
       "var x = new MutationObserver(function (mutations, observer) {{\n",
       "        var display = window.getComputedStyle(gd).display;\n",
       "        if (!display || display === 'none') {{\n",
       "            console.log([gd, 'removed!']);\n",
       "            Plotly.purge(gd);\n",
       "            observer.disconnect();\n",
       "        }}\n",
       "}});\n",
       "\n",
       "// Listen for the removal of the full notebook cells\n",
       "var notebookContainer = gd.closest('#notebook-container');\n",
       "if (notebookContainer) {{\n",
       "    x.observe(notebookContainer, {childList: true});\n",
       "}}\n",
       "\n",
       "// Listen for the clearing of the current output cell\n",
       "var outputEl = gd.closest('.output');\n",
       "if (outputEl) {{\n",
       "    x.observe(outputEl, {childList: true});\n",
       "}}\n",
       "\n",
       "                        })\n",
       "                };\n",
       "                });\n",
       "            </script>\n",
       "        </div>"
      ]
     },
     "metadata": {},
     "output_type": "display_data"
    }
   ],
   "source": [
    "df.county.value_counts().iplot(kind='bar')"
   ]
  },
  {
   "cell_type": "markdown",
   "metadata": {
    "slideshow": {
     "slide_type": "subslide"
    }
   },
   "source": [
    "### 常見的機器學習演算法"
   ]
  },
  {
   "cell_type": "markdown",
   "metadata": {
    "slideshow": {
     "slide_type": "fragment"
    }
   },
   "source": [
    "![](./img/scikit-learn-logo.png)"
   ]
  },
  {
   "cell_type": "markdown",
   "metadata": {
    "slideshow": {
     "slide_type": "subslide"
    }
   },
   "source": [
    "#### 迴歸 (Regression)\n",
    "- 線性迴歸 (Linear Regression)\n",
    "- Ridge Regression\n",
    "- Lasso Regression"
   ]
  },
  {
   "cell_type": "code",
   "execution_count": null,
   "metadata": {
    "slideshow": {
     "slide_type": "fragment"
    }
   },
   "outputs": [],
   "source": [
    "from sklearn.linear_model import LinearRegression, Lasso, Ridge\n",
    "\n",
    "LinearRegression()\n",
    "\n",
    "Lasso()\n",
    "\n",
    "Ridge()"
   ]
  },
  {
   "cell_type": "markdown",
   "metadata": {
    "slideshow": {
     "slide_type": "subslide"
    }
   },
   "source": [
    "#### 模型效果評估\n",
    "- R<sup>2</sup>：介於 0 與 1 之間，越大越好\n",
    "- 均方誤差(Mean Square Error, MSE)：越小越好\n",
    "- 平均絕對值誤差(Mean Absolute Error, MAE)：越小越好"
   ]
  },
  {
   "cell_type": "code",
   "execution_count": 26,
   "metadata": {
    "slideshow": {
     "slide_type": "subslide"
    }
   },
   "outputs": [
    {
     "data": {
      "text/html": [
       "<div>\n",
       "<style scoped>\n",
       "    .dataframe tbody tr th:only-of-type {\n",
       "        vertical-align: middle;\n",
       "    }\n",
       "\n",
       "    .dataframe tbody tr th {\n",
       "        vertical-align: top;\n",
       "    }\n",
       "\n",
       "    .dataframe thead th {\n",
       "        text-align: right;\n",
       "    }\n",
       "</style>\n",
       "<table border=\"1\" class=\"dataframe\">\n",
       "  <thead>\n",
       "    <tr style=\"text-align: right;\">\n",
       "      <th></th>\n",
       "      <th>y</th>\n",
       "      <th>X</th>\n",
       "    </tr>\n",
       "  </thead>\n",
       "  <tbody>\n",
       "    <tr>\n",
       "      <td>0</td>\n",
       "      <td>3</td>\n",
       "      <td>1</td>\n",
       "    </tr>\n",
       "    <tr>\n",
       "      <td>1</td>\n",
       "      <td>6</td>\n",
       "      <td>2</td>\n",
       "    </tr>\n",
       "    <tr>\n",
       "      <td>2</td>\n",
       "      <td>9</td>\n",
       "      <td>3</td>\n",
       "    </tr>\n",
       "    <tr>\n",
       "      <td>3</td>\n",
       "      <td>15</td>\n",
       "      <td>5</td>\n",
       "    </tr>\n",
       "    <tr>\n",
       "      <td>4</td>\n",
       "      <td>30</td>\n",
       "      <td>10</td>\n",
       "    </tr>\n",
       "  </tbody>\n",
       "</table>\n",
       "</div>"
      ],
      "text/plain": [
       "    y   X\n",
       "0   3   1\n",
       "1   6   2\n",
       "2   9   3\n",
       "3  15   5\n",
       "4  30  10"
      ]
     },
     "execution_count": 26,
     "metadata": {},
     "output_type": "execute_result"
    }
   ],
   "source": [
    "df = pd.DataFrame({\n",
    "    'y': [3, 6, 9, 15, 30],\n",
    "    'X': [1, 2, 3, 5, 10]\n",
    "})\n",
    "df"
   ]
  },
  {
   "cell_type": "code",
   "execution_count": 27,
   "metadata": {
    "slideshow": {
     "slide_type": "subslide"
    }
   },
   "outputs": [
    {
     "name": "stdout",
     "output_type": "stream",
     "text": [
      "[[15.]\n",
      " [30.]]\n"
     ]
    }
   ],
   "source": [
    "from sklearn.linear_model import LinearRegression\n",
    "\n",
    "\n",
    "X_train = df.loc[0:2, ['X']].values\n",
    "y_train = df.loc[0:2, ['y']].values\n",
    "X_test = df.loc[3:4, ['X']].values\n",
    "y_true = df.loc[3:4, ['y']].values\n",
    "\n",
    "lm_model = LinearRegression().fit(X_train, y_train)\n",
    "y_pred = lm_model.predict(X_test)\n",
    "print(y_pred)"
   ]
  },
  {
   "cell_type": "code",
   "execution_count": 28,
   "metadata": {
    "slideshow": {
     "slide_type": "subslide"
    }
   },
   "outputs": [
    {
     "name": "stdout",
     "output_type": "stream",
     "text": [
      "R2: 1.0\n",
      "MAE: 1.7763568394002505e-15\n",
      "MSE: 6.310887241768095e-30\n"
     ]
    }
   ],
   "source": [
    "from sklearn.metrics import r2_score, mean_absolute_error, mean_squared_error\n",
    "\n",
    "print(f'R2: {r2_score(y_true, y_pred)}')\n",
    "print(f'MAE: {mean_absolute_error(y_true, y_pred)}')\n",
    "print(f'MSE: {mean_squared_error(y_true, y_pred)}')"
   ]
  },
  {
   "cell_type": "markdown",
   "metadata": {
    "slideshow": {
     "slide_type": "subslide"
    }
   },
   "source": [
    "#### 分類 (Classification)\n",
    "- 邏輯迴歸 (Logistic Regression)\n",
    "- 決策樹 (Decision Tree)\n",
    "- 隨機森林 (Random Forest)"
   ]
  },
  {
   "cell_type": "code",
   "execution_count": null,
   "metadata": {
    "slideshow": {
     "slide_type": "fragment"
    }
   },
   "outputs": [],
   "source": [
    "from sklearn.linear_model import LogisticRegression\n",
    "from sklearn.tree import DecisionTreeClassifier\n",
    "from sklearn.ensemble import RandomForestClassifier\n",
    "\n",
    "\n",
    "LogisticRegression()\n",
    "\n",
    "DecisionTreeClassifier()\n",
    "\n",
    "RandomForestClassifier()"
   ]
  },
  {
   "cell_type": "markdown",
   "metadata": {
    "slideshow": {
     "slide_type": "subslide"
    }
   },
   "source": [
    "#### 模型效果評估\n",
    "混淆矩陣 (Confusion Matrix)\n",
    "\n",
    "![](./img/confusion-matrix.png)\n",
    "\n",
    "- 正確率： Accurany = (TP + TN) / (TP + TN + FP + FN)\n",
    "- 精確率： Precision = TP / (TP + FP)\n",
    "- 召回率： Recall = TP / (TP + FN)"
   ]
  },
  {
   "cell_type": "code",
   "execution_count": 42,
   "metadata": {
    "slideshow": {
     "slide_type": "subslide"
    }
   },
   "outputs": [
    {
     "data": {
      "text/html": [
       "<div>\n",
       "<style scoped>\n",
       "    .dataframe tbody tr th:only-of-type {\n",
       "        vertical-align: middle;\n",
       "    }\n",
       "\n",
       "    .dataframe tbody tr th {\n",
       "        vertical-align: top;\n",
       "    }\n",
       "\n",
       "    .dataframe thead th {\n",
       "        text-align: right;\n",
       "    }\n",
       "</style>\n",
       "<table border=\"1\" class=\"dataframe\">\n",
       "  <thead>\n",
       "    <tr style=\"text-align: right;\">\n",
       "      <th></th>\n",
       "      <th>A</th>\n",
       "      <th>B</th>\n",
       "      <th>A_and_B</th>\n",
       "    </tr>\n",
       "  </thead>\n",
       "  <tbody>\n",
       "    <tr>\n",
       "      <td>0</td>\n",
       "      <td>0</td>\n",
       "      <td>0</td>\n",
       "      <td>0</td>\n",
       "    </tr>\n",
       "    <tr>\n",
       "      <td>1</td>\n",
       "      <td>0</td>\n",
       "      <td>1</td>\n",
       "      <td>0</td>\n",
       "    </tr>\n",
       "    <tr>\n",
       "      <td>2</td>\n",
       "      <td>1</td>\n",
       "      <td>0</td>\n",
       "      <td>0</td>\n",
       "    </tr>\n",
       "    <tr>\n",
       "      <td>3</td>\n",
       "      <td>1</td>\n",
       "      <td>1</td>\n",
       "      <td>1</td>\n",
       "    </tr>\n",
       "  </tbody>\n",
       "</table>\n",
       "</div>"
      ],
      "text/plain": [
       "   A  B  A_and_B\n",
       "0  0  0        0\n",
       "1  0  1        0\n",
       "2  1  0        0\n",
       "3  1  1        1"
      ]
     },
     "execution_count": 42,
     "metadata": {},
     "output_type": "execute_result"
    }
   ],
   "source": [
    "df = pd.DataFrame({\n",
    "    'A': [0, 0, 1, 1],\n",
    "    'B': [0, 1, 0, 1],\n",
    "    'A_and_B': [0, 0, 0, 1] \n",
    "})\n",
    "df"
   ]
  },
  {
   "cell_type": "code",
   "execution_count": 43,
   "metadata": {
    "slideshow": {
     "slide_type": "skip"
    }
   },
   "outputs": [],
   "source": [
    "import warnings\n",
    "warnings.filterwarnings('ignore')"
   ]
  },
  {
   "cell_type": "code",
   "execution_count": 44,
   "metadata": {
    "slideshow": {
     "slide_type": "subslide"
    }
   },
   "outputs": [
    {
     "data": {
      "text/plain": [
       "LogisticRegression(C=1.0, class_weight=None, dual=False, fit_intercept=True,\n",
       "                   intercept_scaling=1, l1_ratio=None, max_iter=100,\n",
       "                   multi_class='warn', n_jobs=None, penalty='l2',\n",
       "                   random_state=None, solver='warn', tol=0.0001, verbose=0,\n",
       "                   warm_start=False)"
      ]
     },
     "execution_count": 44,
     "metadata": {},
     "output_type": "execute_result"
    }
   ],
   "source": [
    "from sklearn.linear_model import LogisticRegression\n",
    "\n",
    "\n",
    "X_train = df.loc[:, ['A', 'B']].values\n",
    "y_train = df.loc[:, ['A_and_B']].values\n",
    "\n",
    "clf = LogisticRegression()\n",
    "clf.fit(X_train, y_train)"
   ]
  },
  {
   "cell_type": "code",
   "execution_count": 45,
   "metadata": {
    "slideshow": {
     "slide_type": "fragment"
    }
   },
   "outputs": [
    {
     "data": {
      "text/plain": [
       "array([0, 0, 0, 0])"
      ]
     },
     "execution_count": 45,
     "metadata": {},
     "output_type": "execute_result"
    }
   ],
   "source": [
    "y_pred = clf.predict(X_train)\n",
    "y_pred"
   ]
  },
  {
   "cell_type": "code",
   "execution_count": 46,
   "metadata": {
    "scrolled": true,
    "slideshow": {
     "slide_type": "subslide"
    }
   },
   "outputs": [
    {
     "name": "stdout",
     "output_type": "stream",
     "text": [
      "[True Negtivate, False Postive]\n",
      "[False Negative, Ture Postive]\n"
     ]
    },
    {
     "data": {
      "text/plain": [
       "array([[3, 0],\n",
       "       [1, 0]])"
      ]
     },
     "execution_count": 46,
     "metadata": {},
     "output_type": "execute_result"
    }
   ],
   "source": [
    "from sklearn.metrics import confusion_matrix\n",
    "from sklearn.metrics import accuracy_score, precision_score, recall_score\n",
    "\n",
    "\n",
    "print('[True Negtivate, False Postive]')\n",
    "print('[False Negative, Ture Postive]')\n",
    "confusion_matrix(y_train, y_pred)"
   ]
  },
  {
   "cell_type": "code",
   "execution_count": 22,
   "metadata": {
    "slideshow": {
     "slide_type": "fragment"
    }
   },
   "outputs": [
    {
     "name": "stdout",
     "output_type": "stream",
     "text": [
      "Accuracy: 0.75\n",
      "Precision: 0.0\n",
      "Recall: 0.0\n",
      "F1 score: 0.0\n"
     ]
    }
   ],
   "source": [
    "print(f'Accuracy: {accuracy_score(y_train, y_pred)}')\n",
    "print(f'Precision: {precision_score(y_train, y_pred)}')\n",
    "print(f'Recall: {recall_score(y_train, y_pred)}')"
   ]
  },
  {
   "cell_type": "markdown",
   "metadata": {
    "slideshow": {
     "slide_type": "slide"
    }
   },
   "source": [
    "![backgroud](img/農地種電/2013開放農地種電.jpeg)"
   ]
  },
  {
   "cell_type": "markdown",
   "metadata": {
    "slideshow": {
     "slide_type": "subslide"
    }
   },
   "source": [
    "# 影像處理 - 農地種電、種菜、還是種工廠？\n",
    "\n",
    "## 團隊成員介紹\n",
    "### 資料英雄：\u000b",
    "陳晉暉（資料工程師）、林家慶（研究助理）\u000b",
    "陳均豪（資工所）、周立筠（統計所）\u000b",
    "吳彥霖（精算專員）、楊承翰（統計所)\n",
    "### 領域專家：\u000b",
    "鄧東波（OpenStreetMap Taiwan 理事長）\u000b",
    "呂國禎（天下雜誌 副總主筆）\u000b",
    "劉光瑩（天下雜誌 資深記者）\u000b",
    "鄧凱元（天下雜誌 記者）\u000b",
    "陳明智（太空中心 研究員）\u000b",
    "彭思嘉（太空中心 研究助理）\u000b",
    "林恩如（太空中心 研究助理"
   ]
  },
  {
   "cell_type": "markdown",
   "metadata": {
    "slideshow": {
     "slide_type": "subslide"
    }
   },
   "source": [
    "![農地種電](img/農地種電/農地種電.jpeg)"
   ]
  },
  {
   "cell_type": "markdown",
   "metadata": {
    "slideshow": {
     "slide_type": "subslide"
    }
   },
   "source": [
    "![資料來源](img/農地種電/農地種電資料來源.jpeg)"
   ]
  },
  {
   "cell_type": "markdown",
   "metadata": {
    "slideshow": {
     "slide_type": "slide"
    }
   },
   "source": [
    "![研究方法](img/農地種電/投影片090.png)"
   ]
  },
  {
   "cell_type": "markdown",
   "metadata": {
    "slideshow": {
     "slide_type": "subslide"
    }
   },
   "source": [
    "![研究方法](img/農地種電/投影片091.png)"
   ]
  },
  {
   "cell_type": "markdown",
   "metadata": {
    "slideshow": {
     "slide_type": "subslide"
    }
   },
   "source": [
    "![研究方法](img/農地種電/投影片091.png)"
   ]
  },
  {
   "cell_type": "markdown",
   "metadata": {
    "slideshow": {
     "slide_type": "subslide"
    }
   },
   "source": [
    "![研究方法](img/農地種電/投影片096.png)"
   ]
  },
  {
   "cell_type": "markdown",
   "metadata": {
    "slideshow": {
     "slide_type": "subslide"
    }
   },
   "source": [
    "![研究方法](img/農地種電/投影片097.png)"
   ]
  },
  {
   "cell_type": "markdown",
   "metadata": {
    "slideshow": {
     "slide_type": "subslide"
    }
   },
   "source": [
    "![研究方法](img/農地種電/投影片098.png)"
   ]
  },
  {
   "cell_type": "markdown",
   "metadata": {
    "slideshow": {
     "slide_type": "subslide"
    }
   },
   "source": [
    "![研究方法](img/農地種電/投影片099.png)"
   ]
  },
  {
   "cell_type": "markdown",
   "metadata": {
    "slideshow": {
     "slide_type": "subslide"
    }
   },
   "source": [
    "![研究方法](img/農地種電/投影片100.png)"
   ]
  },
  {
   "cell_type": "markdown",
   "metadata": {
    "slideshow": {
     "slide_type": "subslide"
    }
   },
   "source": [
    "# 交流窗口\n",
    "## 陳晉輝 chchen.johnson@gmail.com"
   ]
  },
  {
   "cell_type": "markdown",
   "metadata": {
    "slideshow": {
     "slide_type": "slide"
    }
   },
   "source": [
    "# 文字探勘\n",
    "# 在親權及監護權官司中，新住民是否有差異對待\n",
    "\n",
    "\n",
    "\n"
   ]
  },
  {
   "cell_type": "markdown",
   "metadata": {
    "slideshow": {
     "slide_type": "subslide"
    }
   },
   "source": [
    "## 團隊成員介紹\n",
    "### 黃詩淳\u000b",
    "臺灣大學法律系\u000b",
    "副教授,邵軒磊\u000b",
    "臺灣師範大學\u000b",
    "東亞系副教授,林岡毅\u000b",
    "資料分析專家,李容萱\u000b",
    "臺灣大學法研所二年級,\n",
    "### 吳玟萱臺灣師範大學\u000b",
    "國文系四年級,姜晴文\u000b",
    "臺灣大學法研所一年級,蔡祁芳\u000b",
    "臺灣大學科法所\u000b",
    "三年級,邱綉棋\u000b",
    "臺灣大學法研所\u000b",
    "二年級\n",
    "### 林貝珍\u000b",
    "臺灣大學法研所\u000b",
    "一年級,趙翊淳\u000b",
    "臺灣大學法研所\u000b",
    "二年級"
   ]
  },
  {
   "cell_type": "markdown",
   "metadata": {
    "slideshow": {
     "slide_type": "slide"
    }
   },
   "source": [
    "![外籍配偶](img/文字探勘/投影片28.png)"
   ]
  },
  {
   "cell_type": "markdown",
   "metadata": {
    "slideshow": {
     "slide_type": "subslide"
    }
   },
   "source": [
    "# 第一步 案件概述是否有國籍差異"
   ]
  },
  {
   "cell_type": "markdown",
   "metadata": {
    "slideshow": {
     "slide_type": "subslide"
    }
   },
   "source": [
    "\n",
    "![資料來源](img/文字探勘/投影片30.png)\n"
   ]
  },
  {
   "cell_type": "markdown",
   "metadata": {
    "slideshow": {
     "slide_type": "subslide"
    }
   },
   "source": [
    "\n",
    "![外籍配偶](img/文字探勘/投影片32.png)\n"
   ]
  },
  {
   "cell_type": "markdown",
   "metadata": {
    "slideshow": {
     "slide_type": "subslide"
    }
   },
   "source": [
    "![外籍配偶](img/文字探勘/投影片33.png)"
   ]
  },
  {
   "cell_type": "markdown",
   "metadata": {
    "slideshow": {
     "slide_type": "subslide"
    }
   },
   "source": [
    "![外籍配偶](img/文字探勘/投影片39.png)"
   ]
  },
  {
   "cell_type": "markdown",
   "metadata": {
    "slideshow": {
     "slide_type": "subslide"
    }
   },
   "source": [
    "![外籍配偶](img/文字探勘/投影片43.png)"
   ]
  },
  {
   "cell_type": "markdown",
   "metadata": {
    "slideshow": {
     "slide_type": "subslide"
    }
   },
   "source": [
    "# 文字裁判探勘：分詞+TFIDF+PCA+XGBOOST"
   ]
  },
  {
   "cell_type": "markdown",
   "metadata": {
    "slideshow": {
     "slide_type": "subslide"
    }
   },
   "source": [
    "![裁判關鍵因素](img/文字探勘/投影片44.png)"
   ]
  },
  {
   "cell_type": "markdown",
   "metadata": {
    "slideshow": {
     "slide_type": "subslide"
    }
   },
   "source": [
    "![裁判關鍵因素](img/文字探勘/投影片45.png)"
   ]
  },
  {
   "cell_type": "markdown",
   "metadata": {
    "slideshow": {
     "slide_type": "subslide"
    }
   },
   "source": [
    "![裁判關鍵因素](img/文字探勘/投影片46.png)"
   ]
  },
  {
   "cell_type": "markdown",
   "metadata": {
    "slideshow": {
     "slide_type": "subslide"
    }
   },
   "source": [
    "\n",
    "![裁判關鍵因素](img/文字探勘/投影片55.png)\n"
   ]
  },
  {
   "cell_type": "markdown",
   "metadata": {
    "slideshow": {
     "slide_type": "subslide"
    }
   },
   "source": [
    "![裁判關鍵因素](img/文字探勘/投影片57.png)"
   ]
  },
  {
   "cell_type": "markdown",
   "metadata": {
    "slideshow": {
     "slide_type": "subslide"
    }
   },
   "source": [
    "![](img/文字探勘/投影片58.png)"
   ]
  },
  {
   "cell_type": "markdown",
   "metadata": {
    "slideshow": {
     "slide_type": "subslide"
    }
   },
   "source": [
    "![裁判關鍵因素](img/文字探勘/投影片59.png)"
   ]
  },
  {
   "cell_type": "markdown",
   "metadata": {
    "slideshow": {
     "slide_type": "subslide"
    }
   },
   "source": [
    "![裁判關鍵因素](img/文字探勘/投影片60.png)"
   ]
  },
  {
   "cell_type": "markdown",
   "metadata": {
    "slideshow": {
     "slide_type": "subslide"
    }
   },
   "source": [
    "![](img/文字探勘/投影片62.png)"
   ]
  },
  {
   "cell_type": "markdown",
   "metadata": {
    "slideshow": {
     "slide_type": "slide"
    }
   },
   "source": [
    "# 交流窗口 \n",
    "# 邵軒磊 hlshao2@gmail.com"
   ]
  },
  {
   "cell_type": "markdown",
   "metadata": {
    "slideshow": {
     "slide_type": "slide"
    }
   },
   "source": [
    "[![D4SGHP](img/d4sgHP.png)](http://d4sg.org/fellowship/projects/)"
   ]
  },
  {
   "cell_type": "markdown",
   "metadata": {
    "slideshow": {
     "slide_type": "slide"
    }
   },
   "source": [
    "# THANKS"
   ]
  }
 ],
 "metadata": {
  "celltoolbar": "Slideshow",
  "kernelspec": {
   "display_name": "Python 3",
   "language": "python",
   "name": "python3"
  },
  "language_info": {
   "codemirror_mode": {
    "name": "ipython",
    "version": 3
   },
   "file_extension": ".py",
   "mimetype": "text/x-python",
   "name": "python",
   "nbconvert_exporter": "python",
   "pygments_lexer": "ipython3",
   "version": "3.6.9"
  }
 },
 "nbformat": 4,
 "nbformat_minor": 4
}
